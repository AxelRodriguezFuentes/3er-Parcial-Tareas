{
  "nbformat": 4,
  "nbformat_minor": 0,
  "metadata": {
    "colab": {
      "name": "Untitled9.ipynb",
      "provenance": []
    },
    "kernelspec": {
      "name": "python3",
      "display_name": "Python 3"
    }
  },
  "cells": [
    {
      "cell_type": "code",
      "metadata": {
        "id": "WwAJvtvM9Sq0",
        "outputId": "090cf4ff-4f67-4231-c883-07228eea877d",
        "colab": {
          "base_uri": "https://localhost:8080/",
          "height": 450
        }
      },
      "source": [
        "import matplotlib.pyplot as plt\r\n",
        "\r\n",
        "def d1(y):\r\n",
        "    return (.25 + (.25*y))\r\n",
        "def d2(x, z):\r\n",
        "  return ((.25) + (.25*x) + (.25*z))\r\n",
        "def d3(y, w):\r\n",
        "    return ((.25) + (.25*y) + (.25*w))\r\n",
        "def d4(z):\r\n",
        "    return (.25 + (.25*z))\r\n",
        "def MetodoF():\r\n",
        "  print(\"\\nMetodoF:\")\r\n",
        "  print(\"Ejecutando codigo...\\n\")\r\n",
        "  g1()\r\n",
        "\r\n",
        "def g1():\r\n",
        "  xDat=[]\r\n",
        "  xDat.append(0)\r\n",
        "  yDat=[]\r\n",
        "  yDat.append(0)\r\n",
        "  zDat=[]\r\n",
        "  zDat.append(0)\r\n",
        "  wDat=[]\r\n",
        "  wDat.append(0)\r\n",
        "\r\n",
        "  cont = 0\r\n",
        "  x = 0\r\n",
        "  y = 0\r\n",
        "  z = 0\r\n",
        "  w = 0\r\n",
        "  while(cont < 10):\r\n",
        "    xe = d1(y)\r\n",
        "    xDat.append(xe)\r\n",
        "    ye = d2(x , z)\r\n",
        "    yDat.append(ye)\r\n",
        "    ze = d3(y, w)\r\n",
        "    zDat.append(ze)\r\n",
        "    we = d4(z)\r\n",
        "    wDat.append(we)\r\n",
        "    x = xe\r\n",
        "    y = ye\r\n",
        "    z = ze\r\n",
        "    w = we\r\n",
        "    cont += 1\r\n",
        "  print(\"x: \" +str(xDat))\r\n",
        "  print(\"\\ny: \" +str(yDat))\r\n",
        "  print(\"\\nz: \" +str(zDat))\r\n",
        "  print(\"\\nw: \" +str(wDat))\r\n",
        "  plt.plot(xDat, label = \"x_RES\")\r\n",
        "  plt.plot(yDat, label = \"y_RES\")\r\n",
        "  plt.plot(zDat, label = \"z_RES\")\r\n",
        "  plt.plot(wDat, label = \"w_RES\")\r\n",
        "  plt.legend()\r\n",
        "  plt.show() \r\n",
        "  \r\n",
        "\r\n",
        "MetodoF()"
      ],
      "execution_count": 1,
      "outputs": [
        {
          "output_type": "stream",
          "text": [
            "\n",
            "MetodoF:\n",
            "Ejecutando codigo...\n",
            "\n",
            "x: [0, 0.25, 0.3125, 0.34375, 0.35546875, 0.3603515625, 0.3623046875, 0.36309814453125, 0.3634185791015625, 0.36354827880859375, 0.3636007308959961]\n",
            "\n",
            "y: [0, 0.25, 0.375, 0.421875, 0.44140625, 0.44921875, 0.452392578125, 0.45367431640625, 0.454193115234375, 0.4544029235839844, 0.45448780059814453]\n",
            "\n",
            "z: [0, 0.25, 0.375, 0.421875, 0.44140625, 0.44921875, 0.452392578125, 0.45367431640625, 0.454193115234375, 0.4544029235839844, 0.45448780059814453]\n",
            "\n",
            "w: [0, 0.25, 0.3125, 0.34375, 0.35546875, 0.3603515625, 0.3623046875, 0.36309814453125, 0.3634185791015625, 0.36354827880859375, 0.3636007308959961]\n"
          ],
          "name": "stdout"
        },
        {
          "output_type": "display_data",
          "data": {
            "image/png": "[encoded data removed]",
            "text/plain": [
              "<Figure size 432x288 with 1 Axes>"
            ]
          },
          "metadata": {
            "tags": [],
            "needs_background": "light"
          }
        }
      ]
    }
  ]
}